{
  "nbformat": 4,
  "nbformat_minor": 0,
  "metadata": {
    "colab": {
      "name": "streamlit_motor_vehicle_collision.ipynb",
      "provenance": [],
      "collapsed_sections": [],
      "authorship_tag": "ABX9TyOXAC8payRQfliKXNpoXzFq",
      "include_colab_link": true
    },
    "kernelspec": {
      "name": "python3",
      "display_name": "Python 3"
    }
  },
  "cells": [
    {
      "cell_type": "markdown",
      "metadata": {
        "id": "view-in-github",
        "colab_type": "text"
      },
      "source": [
        "<a href=\"https://colab.research.google.com/github/kratikagupta6394/streamlit_motor_vehicle_collision/blob/main/streamlit_motor_vehicle_collision.ipynb\" target=\"_parent\"><img src=\"https://colab.research.google.com/assets/colab-badge.svg\" alt=\"Open In Colab\"/></a>"
      ]
    },
    {
      "cell_type": "code",
      "metadata": {
        "id": "wNn0FOdGhHzB",
        "colab": {
          "base_uri": "https://localhost:8080/",
          "height": 375
        },
        "outputId": "308137a5-150f-4e77-a0f2-ac0a52c0c580"
      },
      "source": [
        "import streamlit as st\n",
        "import pandas as pd\n",
        "import numpy as np\n",
        "import pydeck as pdk\n",
        "import plotly.express as px\n",
        "\n",
        "DATA_URL=(\n",
        "    \"~/Desktop/streamlit/Motor_Vehicle_Collisions_-_Crashes.csv\"\n",
        ")\n",
        "\n",
        "st.title(\"Motor Vehicle Collision in New York City\")\n",
        "st.markdown(\"This application is a Streamlit dashboard that \"\n",
        "\"can be used to analyze motor vehicle collisions in NYC.\")\n",
        "\n",
        "@st.cache(persist=True)\n",
        "def load_data(nrows):\n",
        "    data = pd.read_csv(DATA_URL, nrows=nrows, parse_dates=[['CRASH_DATE','CRASH_TIME']])\n",
        "    data.dropna(subset=['LATITUDE','LONGITUDE'], inplace = True)\n",
        "    lowercase = lambda x: str(x).lower()\n",
        "    data.rename(lowercase, axis='columns', inplace=True)\n",
        "    data.rename(columns={'crash_date_crash_time':'date/time'},inplace=True)\n",
        "    return data\n",
        "\n",
        "data = load_data(100000)\n",
        "original_data = data\n",
        "\n",
        "st.header(\"Where are the most people injured in NYC?\")\n",
        "injured_people = st.slider(\"Number of \",0,19)\n",
        "\n",
        "\n",
        "st.map(data.query(\"injured_persons >= @injured_people\")[[\"latitude\",\"longitude\"]].dropna(how = \"any\"))\n",
        "st.header(\"HOw many collisions occur during a given time of day?\")\n",
        "hour = st.slider(\"Hour to look at\",0,23)\n",
        "data = data[data['date/time'].dt.hour == hour]\n",
        "\n",
        "st.markdown(\"Vehicle collision between %i:00 and %i:00\" %(hour, (hour+1)%24))\n",
        "midpoint = (np.average(data['latitude']), np.average(data['longitude']))\n",
        "st.write(pdk.Deck(\n",
        "    map_style =\"mapbox://style/mapbox/light-v9\",\n",
        "    initial_view_state = {\n",
        "        \"latitude\": midpoint[0],\n",
        "        \"longitude\": midpoint[1],\n",
        "        \"zoom\":11,\n",
        "        \"pitch\": 50,\n",
        "    },\n",
        "    layers=[\n",
        "        pdk.Layer(\n",
        "            \"HexagonLayer\",\n",
        "            data = data[['date/time','latitude','longitude']],\n",
        "            get_position = ['longitude','latitude'],\n",
        "            radius = 100,\n",
        "            extruded = True,\n",
        "            pickable = True,\n",
        "            elevation_scale = 4,\n",
        "            elevation_range=[0,1000],\n",
        "        ),\n",
        "    ],\n",
        "))\n",
        "\n",
        "st.subheader(\"Breakdown by minute between %i:00 and %i:00\" % (hour,(hour+1)%24))\n",
        "filtered = data[\n",
        "    (data['date/time'].dt.hour >= hour) & (data['date/time'].dt.hour < (hour+1))\n",
        "]\n",
        "hist = np.histogram(filtered['date/time'].dt.minute, bins =60, range =(0,60))[0]\n",
        "chart_data = pd.DataFrame({'minute':range(60),'crashes':hist})\n",
        "fig = px.bar(chart_data, x='minute',y='crashes',hover_data=['minute','crashes'],height=400)\n",
        "st.write(fig)\n",
        "\n",
        "st.header(\"Top 5 dangerous streets by affected type\")\n",
        "select = st.selectbox('Affected type of people',['Pedestrians','Cyclists','Motorists'])\n",
        "\n",
        "if select == 'Pedestrians':\n",
        "    st.write(original_data.query(\"injured_pedestrians >=1\")[[\"on_street_name\",\"injured_pedestrians\"]].sort_values(by=['injured_pedestrians'],ascending = False).dropna(how =\"any\")[:5])\n",
        "\n",
        "elif select == 'Cyclists':\n",
        "    st.write(original_data.query(\"injured_cyclists >=1\")[[\"on_street_name\",\"injured_cyclists\"]].sort_values(by=['injured_cyclists'],ascending = False).dropna(how =\"any\")[:5])\n",
        "\n",
        "else:\n",
        "    st.write(original_data.query(\"injured_motorists >=1\")[[\"on_street_name\",\"injured_motorists\"]].sort_values(by=['injured_motorists'],ascending = False).dropna(how =\"any\")[:5])\n",
        "\n",
        "if st.checkbox(\"Show Raw Data\",False):\n",
        "    st.subheader('Raw Data')\n",
        "    st.write(data)"
      ],
      "execution_count": null,
      "outputs": [
        {
          "output_type": "error",
          "ename": "ModuleNotFoundError",
          "evalue": "ignored",
          "traceback": [
            "\u001b[0;31m---------------------------------------------------------------------------\u001b[0m",
            "\u001b[0;31mModuleNotFoundError\u001b[0m                       Traceback (most recent call last)",
            "\u001b[0;32m<ipython-input-1-09d6df1c2cd7>\u001b[0m in \u001b[0;36m<module>\u001b[0;34m()\u001b[0m\n\u001b[0;32m----> 1\u001b[0;31m \u001b[0;32mimport\u001b[0m \u001b[0mstreamlit\u001b[0m \u001b[0;32mas\u001b[0m \u001b[0mst\u001b[0m\u001b[0;34m\u001b[0m\u001b[0;34m\u001b[0m\u001b[0m\n\u001b[0m\u001b[1;32m      2\u001b[0m \u001b[0;32mimport\u001b[0m \u001b[0mpandas\u001b[0m \u001b[0;32mas\u001b[0m \u001b[0mpd\u001b[0m\u001b[0;34m\u001b[0m\u001b[0;34m\u001b[0m\u001b[0m\n\u001b[1;32m      3\u001b[0m \u001b[0;32mimport\u001b[0m \u001b[0mnumpy\u001b[0m \u001b[0;32mas\u001b[0m \u001b[0mnp\u001b[0m\u001b[0;34m\u001b[0m\u001b[0;34m\u001b[0m\u001b[0m\n\u001b[1;32m      4\u001b[0m \u001b[0;32mimport\u001b[0m \u001b[0mpydeck\u001b[0m \u001b[0;32mas\u001b[0m \u001b[0mpdk\u001b[0m\u001b[0;34m\u001b[0m\u001b[0;34m\u001b[0m\u001b[0m\n\u001b[1;32m      5\u001b[0m \u001b[0;32mimport\u001b[0m \u001b[0mplotly\u001b[0m\u001b[0;34m.\u001b[0m\u001b[0mexpress\u001b[0m \u001b[0;32mas\u001b[0m \u001b[0mpx\u001b[0m\u001b[0;34m\u001b[0m\u001b[0;34m\u001b[0m\u001b[0m\n",
            "\u001b[0;31mModuleNotFoundError\u001b[0m: No module named 'streamlit'",
            "",
            "\u001b[0;31m---------------------------------------------------------------------------\u001b[0;32m\nNOTE: If your import is failing due to a missing package, you can\nmanually install dependencies using either !pip or !apt.\n\nTo view examples of installing some common dependencies, click the\n\"Open Examples\" button below.\n\u001b[0;31m---------------------------------------------------------------------------\u001b[0m\n"
          ]
        }
      ]
    }
  ]
}